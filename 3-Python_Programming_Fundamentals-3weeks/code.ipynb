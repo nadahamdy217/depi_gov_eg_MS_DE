{
 "cells": [
  {
   "cell_type": "code",
   "execution_count": 20,
   "metadata": {},
   "outputs": [],
   "source": [
    "import cv2\n",
    "import shutil\n",
    "import os"
   ]
  },
  {
   "cell_type": "code",
   "execution_count": 21,
   "metadata": {},
   "outputs": [],
   "source": [
    "alphabet_dict = {\n",
    "    'A': 1, 'B': 2, 'C': 3, 'D': 4, 'E': 5, 'F': 6, 'G': 7, 'H': 8, 'I': 9,\n",
    "    'J': 10, 'K': 11, 'L': 12, 'M': 13, 'N': 14, 'O': 15, 'P': 16, 'Q': 17,\n",
    "    'R': 18, 'S': 19, 'T': 20, 'U': 21, 'V': 22, 'W': 23, 'X': 24, 'Y': 25, 'Z': 26,\n",
    "    '.':27, ' ':28 \n",
    "}"
   ]
  },
  {
   "cell_type": "code",
   "execution_count": 22,
   "metadata": {},
   "outputs": [],
   "source": [
    "# Input word\n",
    "word = input (\"enter any text: \")  # Replace with the desired word\n",
    "\n",
    "# Convert the word to uppercase to match the dictionary keys\n",
    "word = word.upper()"
   ]
  },
  {
   "cell_type": "code",
   "execution_count": 23,
   "metadata": {},
   "outputs": [],
   "source": [
    "#Split the word into characters and find the corresponding numbers\n",
    "numbers = []\n",
    "for char in word:\n",
    "    numbers.append(alphabet_dict[char])"
   ]
  },
  {
   "cell_type": "code",
   "execution_count": 24,
   "metadata": {},
   "outputs": [],
   "source": [
    "# Define the paths\n",
    "source_folder = r\"D:\\DEPI Data Engineer\\0_projects\\alphabet\\Alphabet\"\n",
    "destination_folder = r\"D:\\DEPI Data Engineer\\0_projects\\alphabet\\CharacterImages\""
   ]
  },
  {
   "cell_type": "code",
   "execution_count": 25,
   "metadata": {},
   "outputs": [],
   "source": [
    "# Process images corresponding to the numbers\n",
    "for index, number in enumerate(numbers):\n",
    "    image_name = f\"{number}.jpg\" \n",
    "    source_image_path = os.path.join(source_folder, image_name)\n",
    "    new_image_name = f\"{index + 1}.jpg\"\n",
    "    destination_image_path = os.path.join(destination_folder, new_image_name)\n",
    "    shutil.copy(source_image_path, destination_image_path)"
   ]
  },
  {
   "cell_type": "code",
   "execution_count": 26,
   "metadata": {},
   "outputs": [
    {
     "name": "stdout",
     "output_type": "stream",
     "text": [
      "[8, 5, 12, 12, 15]\n"
     ]
    }
   ],
   "source": [
    "print (numbers)"
   ]
  }
 ],
 "metadata": {
  "kernelspec": {
   "display_name": "Python 3",
   "language": "python",
   "name": "python3"
  },
  "language_info": {
   "codemirror_mode": {
    "name": "ipython",
    "version": 3
   },
   "file_extension": ".py",
   "mimetype": "text/x-python",
   "name": "python",
   "nbconvert_exporter": "python",
   "pygments_lexer": "ipython3",
   "version": "3.12.3"
  }
 },
 "nbformat": 4,
 "nbformat_minor": 2
}
